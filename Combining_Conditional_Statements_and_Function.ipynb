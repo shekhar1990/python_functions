{
  "nbformat": 4,
  "nbformat_minor": 0,
  "metadata": {
    "kernelspec": {
      "display_name": "Python 3",
      "language": "python",
      "name": "python3"
    },
    "language_info": {
      "codemirror_mode": {
        "name": "ipython",
        "version": 3
      },
      "file_extension": ".py",
      "mimetype": "text/x-python",
      "name": "python",
      "nbconvert_exporter": "python",
      "pygments_lexer": "ipython3",
      "version": "3.6.4"
    },
    "colab": {
      "name": "Combining Conditional Statements and Function.ipynb",
      "provenance": [],
      "include_colab_link": true
    }
  },
  "cells": [
    {
      "cell_type": "markdown",
      "metadata": {
        "id": "view-in-github",
        "colab_type": "text"
      },
      "source": [
        "<a href=\"https://colab.research.google.com/github/shekhar1990/python_functions/blob/master/Combining_Conditional_Statements_and_Function.ipynb\" target=\"_parent\"><img src=\"https://colab.research.google.com/assets/colab-badge.svg\" alt=\"Open In Colab\"/></a>"
      ]
    },
    {
      "cell_type": "code",
      "metadata": {
        "id": "Y6s-KSeNvTgt",
        "colab_type": "code",
        "colab": {}
      },
      "source": [
        "def add_10(m):\n",
        "    if m >= 100:\n",
        "        m = m + 10\n",
        "        return m\n",
        "    else:\n",
        "        return \"Save more!\""
      ],
      "execution_count": 0,
      "outputs": []
    },
    {
      "cell_type": "code",
      "metadata": {
        "id": "fDWcIRYtvTg0",
        "colab_type": "code",
        "colab": {},
        "outputId": "3bb8c7c6-71b8-4560-9dd5-5b8fb4a6b20d"
      },
      "source": [
        "add_10(110)"
      ],
      "execution_count": 0,
      "outputs": [
        {
          "output_type": "execute_result",
          "data": {
            "text/plain": [
              "120"
            ]
          },
          "metadata": {
            "tags": []
          },
          "execution_count": 2
        }
      ]
    },
    {
      "cell_type": "code",
      "metadata": {
        "id": "jXOomxBrvTg6",
        "colab_type": "code",
        "colab": {},
        "outputId": "d3687687-7fcd-46ad-a542-b2625be47b76"
      },
      "source": [
        "add_10(50)"
      ],
      "execution_count": 0,
      "outputs": [
        {
          "output_type": "execute_result",
          "data": {
            "text/plain": [
              "'Save more!'"
            ]
          },
          "metadata": {
            "tags": []
          },
          "execution_count": 3
        }
      ]
    }
  ]
}